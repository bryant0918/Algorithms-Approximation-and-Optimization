{
 "cells": [
  {
   "cell_type": "markdown",
   "metadata": {
    "id": "xQ1tKnrK4TcN"
   },
   "source": [
    "\n",
    "## Volume 2: OpenGym\n",
    "\n"
   ]
  },
  {
   "cell_type": "markdown",
   "metadata": {
    "id": "3qbA8CjB3_IL"
   },
   "source": [
    "Bryant McArthur\n",
    "Sec 002\n",
    "3/3/22\n",
    "\n",
    "\n",
    "\n"
   ]
  },
  {
   "cell_type": "markdown",
   "metadata": {
    "id": "AUZ1Wq-8NwSn"
   },
   "source": [
    "**Note:** Some IPython notebook platforms (such as Google Colab) do not currently support rendering OpenAI environments. In order to properly render the OpenGym environments in this lab, you may need to run the Jupyter Notebook locally (for example, run it in VSCode or from the command line)."
   ]
  },
  {
   "cell_type": "code",
   "execution_count": 3,
   "metadata": {
    "id": "XqeTGS1PNvZ7"
   },
   "outputs": [
    {
     "name": "stdout",
     "output_type": "stream",
     "text": [
      "Requirement already satisfied: gym in c:\\users\\bryan\\anaconda3\\lib\\site-packages (0.22.0)\n",
      "Requirement already satisfied: numpy>=1.18.0 in c:\\users\\bryan\\anaconda3\\lib\\site-packages (from gym) (1.20.1)\n",
      "Requirement already satisfied: gym-notices>=0.0.4 in c:\\users\\bryan\\anaconda3\\lib\\site-packages (from gym) (0.0.4)\n",
      "Requirement already satisfied: importlib-metadata>=4.10.0 in c:\\users\\bryan\\anaconda3\\lib\\site-packages (from gym) (4.11.1)\n",
      "Requirement already satisfied: cloudpickle>=1.2.0 in c:\\users\\bryan\\anaconda3\\lib\\site-packages (from gym) (1.6.0)\n",
      "Requirement already satisfied: zipp>=0.5 in c:\\users\\bryan\\anaconda3\\lib\\site-packages (from importlib-metadata>=4.10.0->gym) (3.4.1)\n",
      "Note: you may need to restart the kernel to use updated packages.\n"
     ]
    }
   ],
   "source": [
    "pip install gym"
   ]
  },
  {
   "cell_type": "code",
   "execution_count": 4,
   "metadata": {
    "id": "ZlMKi7Fx35TI"
   },
   "outputs": [
    {
     "name": "stderr",
     "output_type": "stream",
     "text": [
      "\n"
     ]
    }
   ],
   "source": [
    "import gym\n",
    "import numpy as np\n",
    "from IPython.display import clear_output\n",
    "import random\n",
    "from matplotlib import pyplot as plt"
   ]
  },
  {
   "cell_type": "markdown",
   "metadata": {
    "id": "W-rNQLwd429z"
   },
   "source": [
    "**Problem 1**\n",
    "\n",
    "*   Implement `random_blackjack()`.\n",
    "*   Run the game 500 times and output the percentage of games that are wins.\n",
    "\n"
   ]
  },
  {
   "cell_type": "code",
   "execution_count": 5,
   "metadata": {
    "id": "lrhUolvq45vh"
   },
   "outputs": [],
   "source": [
    "# Problem 1\n",
    "def random_blackjack(n):\n",
    "    \"\"\"\n",
    "    Play a random game of Blackjack. Determine the\n",
    "    percentage the player wins out of n times.\n",
    "    Parameters:\n",
    "        n (int): number of iterations\n",
    "    Returns:\n",
    "        percent (float): percentage that the player\n",
    "                         wins\n",
    "    \"\"\"\n",
    "    \n",
    "    player = 0\n",
    "    #Do this n times\n",
    "    for i in range(n):\n",
    "        env = gym.make('Blackjack-v1')\n",
    "        env.reset()\n",
    "        \n",
    "        terminate = False\n",
    "        while terminate == False:\n",
    "            turn = env.step(env.action_space.sample())  #Take random action always\n",
    "            if turn[2] == True:\n",
    "                terminate = True\n",
    "                \n",
    "            \n",
    "            if turn[1] == 1.0:\n",
    "                player += 1\n",
    "    \n",
    "    #calculate win ratio\n",
    "    winratio = player/n\n",
    "    \n",
    "    env.close()\n",
    "    \n",
    "    return winratio\n",
    "    "
   ]
  },
  {
   "cell_type": "code",
   "execution_count": 6,
   "metadata": {
    "id": "JF-bS3gyIx4k"
   },
   "outputs": [
    {
     "name": "stdout",
     "output_type": "stream",
     "text": [
      "0.284\n"
     ]
    }
   ],
   "source": [
    "print(random_blackjack(500))"
   ]
  },
  {
   "cell_type": "markdown",
   "metadata": {
    "id": "xfZPCIMC5JmB"
   },
   "source": [
    "**Problem 2**\n",
    "\n",
    "* Implement `blackjack()`.\n",
    "* For `n` = 1, 2, ..., 21, plot the win percentage after 10,000 games of Blackjack.\n",
    "* Identify which value of `n` gives the highest win rate."
   ]
  },
  {
   "cell_type": "code",
   "execution_count": 9,
   "metadata": {
    "id": "6Uv7AD8I5LWk"
   },
   "outputs": [],
   "source": [
    "# Problem 2\n",
    "def blackjack(n=11):\n",
    "    \"\"\"\n",
    "    Play blackjack with naive algorithm.\n",
    "    Parameters:\n",
    "        n (int): maximum accepted player hand\n",
    "    Return:\n",
    "        percent (float): percentage of 10,000 iterations\n",
    "                         that the player wins\n",
    "    \"\"\"\n",
    "    player = 0\n",
    "    #for i in range(10000)\n",
    "    for i in range(10000):\n",
    "        env = gym.make('Blackjack-v1')\n",
    "        env.reset()\n",
    "        cardsum = 0\n",
    "        while cardsum <= n:\n",
    "            turn = env.step(1) #Draw a card\n",
    "            #print(turn[0][0])\n",
    "            cardsum = turn[0][0]\n",
    "        \n",
    "        turn =env.step(0) #Stop drawing cards\n",
    "            \n",
    "        if turn[1] == 1.0:\n",
    "                player += 1  #Count my wins\n",
    "                \n",
    "        env.close()\n",
    "                \n",
    "    #calculate my win ratio\n",
    "    winratio = player/10000\n",
    "                \n",
    "    return winratio\n",
    "                \n",
    "        "
   ]
  },
  {
   "cell_type": "code",
   "execution_count": 10,
   "metadata": {
    "id": "miBtqMaVIjFJ"
   },
   "outputs": [
    {
     "data": {
      "image/png": "[encoded data removed]",
      "text/plain": [
       "<Figure size 432x288 with 1 Axes>"
      ]
     },
     "metadata": {
      "needs_background": "light"
     },
     "output_type": "display_data"
    }
   ],
   "source": [
    "wins = []\n",
    "for i in range(1,22):\n",
    "    x = blackjack(i)\n",
    "    wins.append(x)\n",
    "\n",
    "#PLOT EVERYTHING\n",
    "plt.plot(range(1,22),wins)\n",
    "plt.title(\"Win ratio\")\n",
    "plt.xlabel(\"Sum of cards to still draw\")\n",
    "plt.show()"
   ]
  },
  {
   "cell_type": "markdown",
   "metadata": {
    "id": "lY8vR6Ygxxk-"
   },
   "source": [
    "*Identify which value(s) give the highest winrate here:*\n",
    "18 and below gives the best win ratio."
   ]
  },
  {
   "cell_type": "markdown",
   "metadata": {
    "id": "i9xB1KaZ5OJ3"
   },
   "source": [
    "**Problem 3**\n",
    "\n",
    "* Implement `cartpole()`.\n",
    "* Render the game and run your function once.\n",
    "* Run Cartpole 100 times (without rendering) and print out the average number of steps before it terminates."
   ]
  },
  {
   "cell_type": "code",
   "execution_count": 118,
   "metadata": {
    "id": "AGEUkBOx5Qbk"
   },
   "outputs": [],
   "source": [
    "# Problem 3\n",
    "def cartpole(render=False):\n",
    "    \"\"\"\n",
    "    Solve CartPole-v0 by checking the velocity\n",
    "    of the tip of the pole.\n",
    "    Parameters: \n",
    "        render (bool): If True, render environment at each step\n",
    "    Return:\n",
    "        iterations (integer): number of steps or iterations\n",
    "                              to solve the environment\n",
    "    \"\"\"\n",
    "    \n",
    "    env = gym.make('CartPole-v1')\n",
    "    i = 0\n",
    "    try:\n",
    "        env.reset()\n",
    "        obs, reward, done, info = env.step(env.action_space.sample()) # take a random action\n",
    "        done = False\n",
    "        while not done:\n",
    "            i += 1\n",
    "            if render:\n",
    "                env.render()\n",
    "            #Depending on the angle push it left or right\n",
    "            if obs[3] < 0:\n",
    "                obs, reward, done, info = env.step(0)\n",
    "            elif obs[3] > 0:\n",
    "                obs, reward, done, info = env.step(1)\n",
    "            \n",
    "    finally:\n",
    "        env.close()\n",
    "    \n",
    "    return i\n",
    "    "
   ]
  },
  {
   "cell_type": "code",
   "execution_count": 119,
   "metadata": {
    "id": "78iSdRs6wZKb"
   },
   "outputs": [
    {
     "data": {
      "text/plain": [
       "318"
      ]
     },
     "execution_count": 119,
     "metadata": {},
     "output_type": "execute_result"
    }
   ],
   "source": [
    "cartpole(True)"
   ]
  },
  {
   "cell_type": "code",
   "execution_count": 122,
   "metadata": {
    "id": "EaNbYfsuIhxN"
   },
   "outputs": [
    {
     "name": "stdout",
     "output_type": "stream",
     "text": [
      "200.54\n"
     ]
    }
   ],
   "source": [
    "iterations = 0\n",
    "for i in range(100):\n",
    "    iterations += cartpole()\n",
    "    \n",
    "print(iterations/100)"
   ]
  },
  {
   "cell_type": "markdown",
   "metadata": {
    "id": "TPFFk0nX5U_b"
   },
   "source": [
    "**Problem 4**\n",
    "\n",
    "* Implement `car()`.\n",
    "* Render the game and run your function once.\n",
    "* Run MountainCar 100 times (without rendering) and print out the average number of steps before it terminates."
   ]
  },
  {
   "cell_type": "code",
   "execution_count": 19,
   "metadata": {
    "id": "Lqq3Q6EO5Wgq"
   },
   "outputs": [],
   "source": [
    "# Problem 4\n",
    "def car(render=False):\n",
    "    \"\"\"\n",
    "    Solve MountainCar-v0 by checking the position\n",
    "    of the car.\n",
    "    Parameters: \n",
    "        render (bool): If True, render environment at each step\n",
    "    Return:\n",
    "        iterations (integer): number of steps or iterations\n",
    "                              to solve the environment\n",
    "    \"\"\"\n",
    "    env = gym.make('MountainCar-v0')\n",
    "    i = 0\n",
    "    try:\n",
    "        env.reset()\n",
    "        obs, reward, done, info = env.step(2) # take a random action\n",
    "        done = False\n",
    "        while not done:\n",
    "            if render:\n",
    "                env.render()\n",
    "            i += 1\n",
    "            #If the velocity is positive push it right\n",
    "            if obs[1] > 0:\n",
    "                obs, reward, done, info = env.step(2)\n",
    "            #If the velocity is negative push it left\n",
    "            elif obs[1] < 0:\n",
    "                obs, reward, done, info = env.step(0)\n",
    "            #If velocity is zero then just push it whichever direction you want.\n",
    "            else:\n",
    "                obs, reward, done, info = env.step(2)\n",
    "            \n",
    "    finally:\n",
    "        env.close()\n",
    "    \n",
    "    return i"
   ]
  },
  {
   "cell_type": "code",
   "execution_count": 20,
   "metadata": {
    "id": "4_kSEBYdwgnc"
   },
   "outputs": [
    {
     "data": {
      "text/plain": [
       "114"
      ]
     },
     "execution_count": 20,
     "metadata": {},
     "output_type": "execute_result"
    }
   ],
   "source": [
    "car(True)"
   ]
  },
  {
   "cell_type": "code",
   "execution_count": 21,
   "metadata": {
    "id": "fUsBDn6KIgw5"
   },
   "outputs": [
    {
     "name": "stdout",
     "output_type": "stream",
     "text": [
      "118.19\n"
     ]
    }
   ],
   "source": [
    "iterations = 0\n",
    "for i in range(100):\n",
    "    iterations += car()\n",
    "    \n",
    "print(iterations/100)"
   ]
  },
  {
   "cell_type": "markdown",
   "metadata": {
    "id": "U5tSd-zE4sHZ"
   },
   "source": [
    "**Helper Function for Problem 5**"
   ]
  },
  {
   "cell_type": "code",
   "execution_count": 29,
   "metadata": {
    "id": "zNNc3x9x09Zr"
   },
   "outputs": [],
   "source": [
    "def find_qvalues(env,alpha=.1,gamma=.6,epsilon=.1):\n",
    "    \"\"\"\n",
    "    Use the Q-learning algorithm to find qvalues.\n",
    "    Parameters:\n",
    "        env (str): environment name\n",
    "        alpha (float): learning rate\n",
    "        gamma (float): discount factor\n",
    "        epsilon (float): maximum value\n",
    "    Returns:\n",
    "        q_table (ndarray nxm)\n",
    "    \"\"\"\n",
    "    # Make environment\n",
    "    env = gym.make(env)\n",
    "    # Make Q-table\n",
    "    q_table = np.zeros((env.observation_space.n,env.action_space.n))\n",
    "\n",
    "    # Train\n",
    "    for i in range(1,100001):\n",
    "        # Reset state\n",
    "        state = env.reset()\n",
    "\n",
    "        epochs, penalties, reward, = 0,0,0\n",
    "        done = False\n",
    "\n",
    "        while not done:\n",
    "            # Accept based on alpha\n",
    "            if random.uniform(0,1) < epsilon:\n",
    "                action = env.action_space.sample()\n",
    "            else:\n",
    "                action = np.argmax(q_table[state])\n",
    "\n",
    "            # Take action\n",
    "            next_state, reward, done, info = env.step(action)\n",
    "\n",
    "            # Calculate new qvalue\n",
    "            old_value = q_table[state,action]\n",
    "            next_max = np.max(q_table[next_state])\n",
    "\n",
    "            new_value = (1-alpha) * old_value + alpha * (reward + gamma * next_max)\n",
    "            q_table[state, action] = new_value\n",
    "\n",
    "            # Check if penalty is made\n",
    "            if reward == -10:\n",
    "                penalties += 1\n",
    "\n",
    "            # Get next observation\n",
    "            state = next_state\n",
    "            epochs += 1\n",
    "\n",
    "        # Print episode number\n",
    "        if i % 100 == 0:\n",
    "            clear_output(wait=True)\n",
    "            print(f\"Episode: {i}\")\n",
    "\n",
    "    print(\"Training finished.\")\n",
    "    return q_table\n"
   ]
  },
  {
   "cell_type": "markdown",
   "metadata": {
    "id": "ZODhO4AS5YQq"
   },
   "source": [
    "**Problem 5**\n",
    "\n",
    "* Render the \"`Taxi-v3`\" environment, act randomly until it terminates, and calculate the total reward\n",
    "* Render the \"`Taxi-v3`\" environment, use the Q-table to act optimally until it terminates, and calculate the total reward\n",
    "* Implement `taxi()`, then use it to print the average total reward for each algorithm.\n"
   ]
  },
  {
   "cell_type": "code",
   "execution_count": 30,
   "metadata": {
    "id": "e3i-LEnYKHyz"
   },
   "outputs": [
    {
     "name": "stdout",
     "output_type": "stream",
     "text": [
      "-776\n"
     ]
    }
   ],
   "source": [
    "# Random actions Taxi game\n",
    "env = gym.make('Taxi-v3')\n",
    "try:\n",
    "    env.reset()\n",
    "    obs, reward, done, info = env.step(env.action_space.sample()) # take a random action\n",
    "    done = False\n",
    "    while not done:\n",
    "        obs, reward2, done, info = env.step(env.action_space.sample()) # take a random action\n",
    "        reward += reward2\n",
    "finally:\n",
    "    env.close()\n",
    "    \n",
    "print(reward)  \n"
   ]
  },
  {
   "cell_type": "code",
   "execution_count": 32,
   "metadata": {
    "id": "0ejXeML7KJSJ"
   },
   "outputs": [
    {
     "name": "stdout",
     "output_type": "stream",
     "text": [
      "Episode: 100000\n",
      "Training finished.\n"
     ]
    }
   ],
   "source": [
    "# Q-table actions Taxi game\n",
    "env = 'Taxi-v3'\n",
    "q_table = find_qvalues(env)"
   ]
  },
  {
   "cell_type": "code",
   "execution_count": 47,
   "metadata": {
    "id": "APK2iYQV5aR4"
   },
   "outputs": [],
   "source": [
    "def taxi(q_table):\n",
    "    \"\"\"\n",
    "    Compare naive and q-learning algorithms.\n",
    "    Parameters:\n",
    "        q_table (ndarray nxm): table of qvalues\n",
    "    Returns:\n",
    "        naive (float): mean reward of naive algorithm\n",
    "                       of 10000 runs\n",
    "        q_reward (float): mean reward of Q-learning algorithm\n",
    "                          of 10000 runs\n",
    "    \"\"\"\n",
    "    env = gym.make('Taxi-v3')\n",
    "    try:\n",
    "        env.reset()\n",
    "        obs, reward, done, info = env.step(env.action_space.sample()) # take a random action\n",
    "        done = False\n",
    "        while not done:\n",
    "            #env.render()\n",
    "            obs, reward1, done, info = env.step(env.action_space.sample()) # take a random action\n",
    "            reward += reward1\n",
    "    finally:\n",
    "        env.close()\n",
    "    reward1 = reward\n",
    "    reward = 0\n",
    "    reward2 = 0\n",
    "    \n",
    "    try:\n",
    "        obs = env.reset()\n",
    "        done = False\n",
    "        while not done:\n",
    "            action = np.argmax(q_table[obs,:]) #Build the q-table based on the observation\n",
    "            obs, reward, done, info = env.step(action) #Take the optimal action based on the Q-table\n",
    "            reward2 += reward\n",
    "    finally:\n",
    "        env.close()\n",
    "        \n",
    "    return reward1, reward2"
   ]
  },
  {
   "cell_type": "code",
   "execution_count": 48,
   "metadata": {
    "id": "PhS7JR1JKOQu"
   },
   "outputs": [
    {
     "data": {
      "text/plain": [
       "(-866, 7)"
      ]
     },
     "execution_count": 48,
     "metadata": {},
     "output_type": "execute_result"
    }
   ],
   "source": [
    "# Print the average rewards of the Taxi game for both algorithms run 10,000 times\n",
    "taxi(q_table)"
   ]
  },
  {
   "cell_type": "code",
   "execution_count": null,
   "metadata": {},
   "outputs": [],
   "source": []
  }
 ],
 "metadata": {
  "colab": {
   "collapsed_sections": [],
   "name": "opengym.ipynb",
   "provenance": []
  },
  "kernelspec": {
   "display_name": "Python 3",
   "language": "python",
   "name": "python3"
  },
  "language_info": {
   "codemirror_mode": {
    "name": "ipython",
    "version": 3
   },
   "file_extension": ".py",
   "mimetype": "text/x-python",
   "name": "python",
   "nbconvert_exporter": "python",
   "pygments_lexer": "ipython3",
   "version": "3.8.8"
  }
 },
 "nbformat": 4,
 "nbformat_minor": 1
}
